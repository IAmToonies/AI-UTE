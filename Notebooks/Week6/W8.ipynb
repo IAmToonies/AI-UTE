{
 "cells": [
  {
   "cell_type": "code",
   "execution_count": 16,
   "id": "d653832a",
   "metadata": {},
   "outputs": [],
   "source": [
    "from sklearn.linear_model import Perceptron\n",
    "import numpy as np\n",
    "import pandas as pd"
   ]
  },
  {
   "cell_type": "code",
   "execution_count": 5,
   "id": "aab4bc09",
   "metadata": {},
   "outputs": [],
   "source": [
    "x = [[0,0],[1,0],[0,1],[1,1]]\n",
    "y = [0,1,1,1]"
   ]
  },
  {
   "cell_type": "code",
   "execution_count": 6,
   "id": "a4ef1dd9",
   "metadata": {},
   "outputs": [
    {
     "data": {
      "text/plain": [
       "1.0"
      ]
     },
     "execution_count": 6,
     "metadata": {},
     "output_type": "execute_result"
    }
   ],
   "source": [
    "model = Perceptron()\n",
    "model.fit(x,y)\n",
    "model.score(x,y)"
   ]
  },
  {
   "cell_type": "code",
   "execution_count": 8,
   "id": "10477373",
   "metadata": {},
   "outputs": [],
   "source": [
    "x1 = [[0.5,0],[0,0.5],[0.6,0]]\n",
    "y1= model.predict(x1)"
   ]
  },
  {
   "cell_type": "code",
   "execution_count": 9,
   "id": "1fde6196",
   "metadata": {},
   "outputs": [
    {
     "data": {
      "text/plain": [
       "array([0, 0, 1])"
      ]
     },
     "execution_count": 9,
     "metadata": {},
     "output_type": "execute_result"
    }
   ],
   "source": [
    "# Detail in cluster\n",
    "y1"
   ]
  },
  {
   "cell_type": "code",
   "execution_count": 11,
   "id": "30b02b0d",
   "metadata": {},
   "outputs": [],
   "source": [
    "x = [[-0.5,0.5],[-0.5,0.5],[0.3,-0.5],[-0.1,1]]\n",
    "y = [1,1,0,0]"
   ]
  },
  {
   "cell_type": "code",
   "execution_count": 12,
   "id": "33465296",
   "metadata": {},
   "outputs": [
    {
     "data": {
      "text/plain": [
       "1.0"
      ]
     },
     "execution_count": 12,
     "metadata": {},
     "output_type": "execute_result"
    }
   ],
   "source": [
    "model = Perceptron()\n",
    "model.fit(x,y)\n",
    "model.score(x,y)"
   ]
  },
  {
   "cell_type": "code",
   "execution_count": 19,
   "id": "75506eb3",
   "metadata": {},
   "outputs": [
    {
     "name": "stdout",
     "output_type": "stream",
     "text": [
      "Hệ số intercept là:  [0.]\n",
      "Hệ só coeffiient là:  [[-2.  -0.5]]\n",
      "Hệ số độ chính xác:  1.0\n"
     ]
    }
   ],
   "source": [
    "print(\"Hệ số intercept là: \", model.intercept_)\n",
    "print('Hệ só coeffiient là: ',model.coef_)\n",
    "print('Hệ số độ chính xác: ',model.score(x,y))"
   ]
  },
  {
   "cell_type": "markdown",
   "id": "76d52708",
   "metadata": {},
   "source": [
    "# Iris"
   ]
  },
  {
   "cell_type": "code",
   "execution_count": 20,
   "id": "694984a4",
   "metadata": {},
   "outputs": [],
   "source": [
    "from sklearn import datasets\n",
    "from sklearn.linear_model import Perceptron\n",
    "from sklearn.model_selection import train_test_split\n",
    "from sklearn.metrics import accuracy_score\n",
    "from sklearn.preprocessing import StandardScaler"
   ]
  },
  {
   "cell_type": "code",
   "execution_count": 28,
   "id": "26b1924e",
   "metadata": {},
   "outputs": [
    {
     "name": "stdout",
     "output_type": "stream",
     "text": [
      "[[5.1 3.5 1.4 0.2]\n",
      " [4.9 3.  1.4 0.2]\n",
      " [4.7 3.2 1.3 0.2]\n",
      " [4.6 3.1 1.5 0.2]\n",
      " [5.  3.6 1.4 0.2]]\n"
     ]
    }
   ],
   "source": [
    "iris = datasets.load_iris()\n",
    "\n",
    "X = iris.data\n",
    "y = iris.target\n",
    "\n",
    "\n",
    "print(X[:5])"
   ]
  },
  {
   "cell_type": "code",
   "execution_count": 31,
   "id": "c751dc97",
   "metadata": {},
   "outputs": [],
   "source": [
    "X_train, X_test, y_train, y_test = train_test_split(X,y,test_size = 0.3)\n",
    "SC = StandardScaler()\n",
    "SC.fit(X_train)\n",
    "X_train_std = SC.transform(X_train)"
   ]
  },
  {
   "cell_type": "code",
   "execution_count": 56,
   "id": "3df3f0d1",
   "metadata": {},
   "outputs": [
    {
     "name": "stdout",
     "output_type": "stream",
     "text": [
      "[1 2 1 1 0 2 0 0 0 1 1 0 1 0 1 0 1 2 1 2 2 2 0 1 2 2 2 1 1 1 2 1 2 1 1 0 0\n",
      " 2 0 2 0 0 0 0 2]\n",
      "[1 2 1 1 0 2 0 0 0 2 1 0 1 0 1 0 1 2 1 2 2 2 0 1 2 2 2 0 1 1 2 1 2 1 1 0 0\n",
      " 2 0 2 0 0 0 0 2]\n",
      "Độ chính xác mô hình chưa scale:  0.9555555555555556\n"
     ]
    }
   ],
   "source": [
    "model = Perceptron(max_iter = 40, eta0 = 0.1, random_state = 0)\n",
    "model.fit(X_train,y_train)\n",
    "y_pred = model.predict(X_test)\n",
    "\n",
    "print(y_pred)\n",
    "print(y_test)\n",
    "print('Độ chính xác mô hình chưa scale: ', accuracy_score(y_test,y_pred))"
   ]
  },
  {
   "cell_type": "code",
   "execution_count": 57,
   "id": "4c7ae05c",
   "metadata": {},
   "outputs": [],
   "source": [
    "SC = StandardScaler()\n",
    "SC.fit(X_train)\n",
    "X_test_std = SC.transform(X_test)"
   ]
  },
  {
   "cell_type": "code",
   "execution_count": 58,
   "id": "fb6f830b",
   "metadata": {},
   "outputs": [
    {
     "name": "stdout",
     "output_type": "stream",
     "text": [
      "[1 2 1 2 0 2 0 0 0 2 1 0 1 0 1 0 1 2 1 2 2 2 0 1 2 2 2 0 1 1 2 1 2 1 1 0 0\n",
      " 2 0 2 0 0 0 0 2]\n",
      "[1 2 1 1 0 2 0 0 0 2 1 0 1 0 1 0 1 2 1 2 2 2 0 1 2 2 2 0 1 1 2 1 2 1 1 0 0\n",
      " 2 0 2 0 0 0 0 2]\n",
      "Độ chính xác mô hình có scale:  0.9777777777777777\n"
     ]
    }
   ],
   "source": [
    "model = Perceptron(max_iter = 1000, eta0 = 0.1, random_state = 0)\n",
    "model.fit(X_train_std,y_train)\n",
    "y_pred = model.predict(X_test_std)\n",
    "\n",
    "print(y_pred)\n",
    "print(y_test)\n",
    "print('Độ chính xác mô hình có scale: ', accuracy_score(y_test,y_pred))"
   ]
  },
  {
   "cell_type": "markdown",
   "id": "b457f442",
   "metadata": {},
   "source": [
    "# Crabs"
   ]
  },
  {
   "cell_type": "code",
   "execution_count": 99,
   "id": "ba7797c4",
   "metadata": {},
   "outputs": [],
   "source": [
    "import numpy as np\n",
    "import pandas as pd\n",
    "import matplotlib.pyplot as plt\n",
    "import seaborn as sns\n",
    "\n",
    "from sklearn import datasets\n",
    "from sklearn.linear_model import Perceptron\n",
    "from sklearn.model_selection import train_test_split\n",
    "from sklearn.metrics import accuracy_score\n",
    "from sklearn.preprocessing import StandardScaler"
   ]
  },
  {
   "cell_type": "code",
   "execution_count": 100,
   "id": "93804a87",
   "metadata": {},
   "outputs": [
    {
     "data": {
      "text/html": [
       "<div>\n",
       "<style scoped>\n",
       "    .dataframe tbody tr th:only-of-type {\n",
       "        vertical-align: middle;\n",
       "    }\n",
       "\n",
       "    .dataframe tbody tr th {\n",
       "        vertical-align: top;\n",
       "    }\n",
       "\n",
       "    .dataframe thead th {\n",
       "        text-align: right;\n",
       "    }\n",
       "</style>\n",
       "<table border=\"1\" class=\"dataframe\">\n",
       "  <thead>\n",
       "    <tr style=\"text-align: right;\">\n",
       "      <th></th>\n",
       "      <th>speies</th>\n",
       "      <th>sex</th>\n",
       "      <th>index</th>\n",
       "      <th>fontallip</th>\n",
       "      <th>rearwidth</th>\n",
       "      <th>length</th>\n",
       "      <th>width</th>\n",
       "      <th>depth</th>\n",
       "    </tr>\n",
       "  </thead>\n",
       "  <tbody>\n",
       "    <tr>\n",
       "      <th>0</th>\n",
       "      <td>B</td>\n",
       "      <td>M</td>\n",
       "      <td>1</td>\n",
       "      <td>8.1</td>\n",
       "      <td>6.7</td>\n",
       "      <td>16.1</td>\n",
       "      <td>19.0</td>\n",
       "      <td>7.0</td>\n",
       "    </tr>\n",
       "    <tr>\n",
       "      <th>1</th>\n",
       "      <td>B</td>\n",
       "      <td>M</td>\n",
       "      <td>2</td>\n",
       "      <td>8.8</td>\n",
       "      <td>7.7</td>\n",
       "      <td>18.1</td>\n",
       "      <td>20.8</td>\n",
       "      <td>7.4</td>\n",
       "    </tr>\n",
       "    <tr>\n",
       "      <th>2</th>\n",
       "      <td>B</td>\n",
       "      <td>M</td>\n",
       "      <td>3</td>\n",
       "      <td>9.2</td>\n",
       "      <td>7.8</td>\n",
       "      <td>19.0</td>\n",
       "      <td>22.4</td>\n",
       "      <td>7.7</td>\n",
       "    </tr>\n",
       "    <tr>\n",
       "      <th>3</th>\n",
       "      <td>B</td>\n",
       "      <td>M</td>\n",
       "      <td>4</td>\n",
       "      <td>9.6</td>\n",
       "      <td>7.9</td>\n",
       "      <td>20.1</td>\n",
       "      <td>23.1</td>\n",
       "      <td>8.2</td>\n",
       "    </tr>\n",
       "    <tr>\n",
       "      <th>4</th>\n",
       "      <td>B</td>\n",
       "      <td>M</td>\n",
       "      <td>5</td>\n",
       "      <td>9.8</td>\n",
       "      <td>8.0</td>\n",
       "      <td>20.3</td>\n",
       "      <td>23.0</td>\n",
       "      <td>8.2</td>\n",
       "    </tr>\n",
       "  </tbody>\n",
       "</table>\n",
       "</div>"
      ],
      "text/plain": [
       "  speies sex  index  fontallip  rearwidth  length  width  depth\n",
       "0      B   M      1        8.1        6.7    16.1   19.0    7.0\n",
       "1      B   M      2        8.8        7.7    18.1   20.8    7.4\n",
       "2      B   M      3        9.2        7.8    19.0   22.4    7.7\n",
       "3      B   M      4        9.6        7.9    20.1   23.1    8.2\n",
       "4      B   M      5        9.8        8.0    20.3   23.0    8.2"
      ]
     },
     "execution_count": 100,
     "metadata": {},
     "output_type": "execute_result"
    }
   ],
   "source": [
    "# Đọc data\n",
    "url = 'crabs.csv'\n",
    "data = pd.read_csv(url)\n",
    "data.head()"
   ]
  },
  {
   "cell_type": "code",
   "execution_count": 101,
   "id": "c53f4ca4",
   "metadata": {},
   "outputs": [
    {
     "data": {
      "text/plain": [
       "speies         2\n",
       "sex            2\n",
       "index         50\n",
       "fontallip    104\n",
       "rearwidth     91\n",
       "length       152\n",
       "width        145\n",
       "depth        102\n",
       "dtype: int64"
      ]
     },
     "execution_count": 101,
     "metadata": {},
     "output_type": "execute_result"
    }
   ],
   "source": [
    "data.nunique()"
   ]
  },
  {
   "cell_type": "code",
   "execution_count": 102,
   "id": "2edfd702",
   "metadata": {},
   "outputs": [
    {
     "data": {
      "text/plain": [
       "B    100\n",
       "O    100\n",
       "Name: speies, dtype: int64"
      ]
     },
     "execution_count": 102,
     "metadata": {},
     "output_type": "execute_result"
    }
   ],
   "source": [
    "data['speies'].value_counts()"
   ]
  },
  {
   "cell_type": "code",
   "execution_count": 103,
   "id": "afa71f3f",
   "metadata": {},
   "outputs": [
    {
     "data": {
      "text/plain": [
       "M    100\n",
       "F    100\n",
       "Name: sex, dtype: int64"
      ]
     },
     "execution_count": 103,
     "metadata": {},
     "output_type": "execute_result"
    }
   ],
   "source": [
    "data['sex'].value_counts()"
   ]
  },
  {
   "cell_type": "code",
   "execution_count": 104,
   "id": "f58d39f7",
   "metadata": {},
   "outputs": [],
   "source": [
    "data['speies'] = data['speies'].map({'B': 0, 'O': 1})\n",
    "data['sex'] = data['sex'].map({'M': 0, 'F': 1})"
   ]
  },
  {
   "cell_type": "code",
   "execution_count": 105,
   "id": "002569b3",
   "metadata": {},
   "outputs": [
    {
     "name": "stdout",
     "output_type": "stream",
     "text": [
      "<class 'pandas.core.frame.DataFrame'>\n",
      "RangeIndex: 200 entries, 0 to 199\n",
      "Data columns (total 8 columns):\n",
      " #   Column     Non-Null Count  Dtype  \n",
      "---  ------     --------------  -----  \n",
      " 0   speies     200 non-null    int64  \n",
      " 1   sex        200 non-null    int64  \n",
      " 2   index      200 non-null    int64  \n",
      " 3   fontallip  200 non-null    float64\n",
      " 4   rearwidth  200 non-null    float64\n",
      " 5   length     200 non-null    float64\n",
      " 6   width      200 non-null    float64\n",
      " 7   depth      200 non-null    float64\n",
      "dtypes: float64(5), int64(3)\n",
      "memory usage: 12.6 KB\n"
     ]
    }
   ],
   "source": [
    "data.info()"
   ]
  },
  {
   "cell_type": "code",
   "execution_count": 106,
   "id": "247db5a1",
   "metadata": {},
   "outputs": [
    {
     "data": {
      "text/html": [
       "<div>\n",
       "<style scoped>\n",
       "    .dataframe tbody tr th:only-of-type {\n",
       "        vertical-align: middle;\n",
       "    }\n",
       "\n",
       "    .dataframe tbody tr th {\n",
       "        vertical-align: top;\n",
       "    }\n",
       "\n",
       "    .dataframe thead th {\n",
       "        text-align: right;\n",
       "    }\n",
       "</style>\n",
       "<table border=\"1\" class=\"dataframe\">\n",
       "  <thead>\n",
       "    <tr style=\"text-align: right;\">\n",
       "      <th></th>\n",
       "      <th>speies</th>\n",
       "      <th>sex</th>\n",
       "      <th>index</th>\n",
       "      <th>fontallip</th>\n",
       "      <th>rearwidth</th>\n",
       "      <th>length</th>\n",
       "      <th>width</th>\n",
       "      <th>depth</th>\n",
       "    </tr>\n",
       "  </thead>\n",
       "  <tbody>\n",
       "    <tr>\n",
       "      <th>speies</th>\n",
       "      <td>1.000000e+00</td>\n",
       "      <td>-9.325873e-17</td>\n",
       "      <td>5.760810e-16</td>\n",
       "      <td>0.437966</td>\n",
       "      <td>0.315751</td>\n",
       "      <td>0.288333</td>\n",
       "      <td>0.216180</td>\n",
       "      <td>0.423716</td>\n",
       "    </tr>\n",
       "    <tr>\n",
       "      <th>sex</th>\n",
       "      <td>-9.325873e-17</td>\n",
       "      <td>1.000000e+00</td>\n",
       "      <td>1.957198e-16</td>\n",
       "      <td>-0.043309</td>\n",
       "      <td>0.291597</td>\n",
       "      <td>-0.104983</td>\n",
       "      <td>-0.074437</td>\n",
       "      <td>-0.089720</td>\n",
       "    </tr>\n",
       "    <tr>\n",
       "      <th>index</th>\n",
       "      <td>5.760810e-16</td>\n",
       "      <td>1.957198e-16</td>\n",
       "      <td>1.000000e+00</td>\n",
       "      <td>0.862876</td>\n",
       "      <td>0.840040</td>\n",
       "      <td>0.911436</td>\n",
       "      <td>0.928248</td>\n",
       "      <td>0.864459</td>\n",
       "    </tr>\n",
       "    <tr>\n",
       "      <th>fontallip</th>\n",
       "      <td>4.379655e-01</td>\n",
       "      <td>-4.330897e-02</td>\n",
       "      <td>8.628756e-01</td>\n",
       "      <td>1.000000</td>\n",
       "      <td>0.906988</td>\n",
       "      <td>0.978842</td>\n",
       "      <td>0.964956</td>\n",
       "      <td>0.987627</td>\n",
       "    </tr>\n",
       "    <tr>\n",
       "      <th>rearwidth</th>\n",
       "      <td>3.157507e-01</td>\n",
       "      <td>2.915970e-01</td>\n",
       "      <td>8.400401e-01</td>\n",
       "      <td>0.906988</td>\n",
       "      <td>1.000000</td>\n",
       "      <td>0.892743</td>\n",
       "      <td>0.900402</td>\n",
       "      <td>0.889205</td>\n",
       "    </tr>\n",
       "    <tr>\n",
       "      <th>length</th>\n",
       "      <td>2.883330e-01</td>\n",
       "      <td>-1.049828e-01</td>\n",
       "      <td>9.114357e-01</td>\n",
       "      <td>0.978842</td>\n",
       "      <td>0.892743</td>\n",
       "      <td>1.000000</td>\n",
       "      <td>0.995023</td>\n",
       "      <td>0.983204</td>\n",
       "    </tr>\n",
       "    <tr>\n",
       "      <th>width</th>\n",
       "      <td>2.161801e-01</td>\n",
       "      <td>-7.443726e-02</td>\n",
       "      <td>9.282481e-01</td>\n",
       "      <td>0.964956</td>\n",
       "      <td>0.900402</td>\n",
       "      <td>0.995023</td>\n",
       "      <td>1.000000</td>\n",
       "      <td>0.967812</td>\n",
       "    </tr>\n",
       "    <tr>\n",
       "      <th>depth</th>\n",
       "      <td>4.237165e-01</td>\n",
       "      <td>-8.971958e-02</td>\n",
       "      <td>8.644594e-01</td>\n",
       "      <td>0.987627</td>\n",
       "      <td>0.889205</td>\n",
       "      <td>0.983204</td>\n",
       "      <td>0.967812</td>\n",
       "      <td>1.000000</td>\n",
       "    </tr>\n",
       "  </tbody>\n",
       "</table>\n",
       "</div>"
      ],
      "text/plain": [
       "                 speies           sex         index  fontallip  rearwidth  \\\n",
       "speies     1.000000e+00 -9.325873e-17  5.760810e-16   0.437966   0.315751   \n",
       "sex       -9.325873e-17  1.000000e+00  1.957198e-16  -0.043309   0.291597   \n",
       "index      5.760810e-16  1.957198e-16  1.000000e+00   0.862876   0.840040   \n",
       "fontallip  4.379655e-01 -4.330897e-02  8.628756e-01   1.000000   0.906988   \n",
       "rearwidth  3.157507e-01  2.915970e-01  8.400401e-01   0.906988   1.000000   \n",
       "length     2.883330e-01 -1.049828e-01  9.114357e-01   0.978842   0.892743   \n",
       "width      2.161801e-01 -7.443726e-02  9.282481e-01   0.964956   0.900402   \n",
       "depth      4.237165e-01 -8.971958e-02  8.644594e-01   0.987627   0.889205   \n",
       "\n",
       "             length     width     depth  \n",
       "speies     0.288333  0.216180  0.423716  \n",
       "sex       -0.104983 -0.074437 -0.089720  \n",
       "index      0.911436  0.928248  0.864459  \n",
       "fontallip  0.978842  0.964956  0.987627  \n",
       "rearwidth  0.892743  0.900402  0.889205  \n",
       "length     1.000000  0.995023  0.983204  \n",
       "width      0.995023  1.000000  0.967812  \n",
       "depth      0.983204  0.967812  1.000000  "
      ]
     },
     "execution_count": 106,
     "metadata": {},
     "output_type": "execute_result"
    }
   ],
   "source": [
    "data.corr()"
   ]
  },
  {
   "cell_type": "code",
   "execution_count": 107,
   "id": "6b48c9ac",
   "metadata": {},
   "outputs": [],
   "source": [
    "X = data.drop(['speies'], axis = 1)\n",
    "y = data['speies']\n",
    "\n",
    "\n",
    "X_train, X_test, y_train, y_test = train_test_split(X,y,test_size = 0.2)\n",
    "\n",
    "SC = StandardScaler()\n",
    "SC.fit(X_train)\n",
    "X_train_std = SC.transform(X_train)\n",
    "X_test_std = SC.transform(X_test)"
   ]
  },
  {
   "cell_type": "code",
   "execution_count": 111,
   "id": "60b1240a",
   "metadata": {},
   "outputs": [
    {
     "name": "stdout",
     "output_type": "stream",
     "text": [
      "Độ chính xác mô hình chưa scale:  0.975\n"
     ]
    }
   ],
   "source": [
    "model = Perceptron(max_iter = 100, eta0 = 0.1, random_state = 0)\n",
    "model.fit(X_train_std,y_train)\n",
    "y_pred = model.predict(X_test_std)\n",
    "\n",
    "\n",
    "print('Độ chính xác mô hình chưa scale: ', accuracy_score(y_test,y_pred))"
   ]
  },
  {
   "cell_type": "markdown",
   "id": "41150de6",
   "metadata": {},
   "source": [
    "# WIth 7 input and 1 output: `sex`"
   ]
  },
  {
   "cell_type": "code",
   "execution_count": 128,
   "id": "d4e671dc",
   "metadata": {},
   "outputs": [],
   "source": [
    "X = data.drop(['sex'], axis = 1)\n",
    "y = data['sex']\n",
    "\n",
    "\n",
    "X_train, X_test, y_train, y_test = train_test_split(X,y,test_size = 0.2)\n",
    "\n",
    "SC = StandardScaler()\n",
    "SC.fit(X_train)\n",
    "X_train_std = SC.transform(X_train)\n",
    "X_test_std = SC.transform(X_test)"
   ]
  },
  {
   "cell_type": "code",
   "execution_count": 146,
   "id": "16963c38",
   "metadata": {},
   "outputs": [
    {
     "name": "stdout",
     "output_type": "stream",
     "text": [
      "Độ chính xác mô hình scale:  1.0\n"
     ]
    }
   ],
   "source": [
    "model = Perceptron(max_iter = 10000, eta0 = 0.6, random_state = 4)\n",
    "model.fit(X_train_std,y_train)\n",
    "y_pred = model.predict(X_test_std)\n",
    "\n",
    "\n",
    "print('Độ chính xác mô hình scale: ', accuracy_score(y_test,y_pred))"
   ]
  },
  {
   "cell_type": "markdown",
   "id": "519b4212",
   "metadata": {},
   "source": [
    "# Lung cancer"
   ]
  },
  {
   "cell_type": "code",
   "execution_count": 212,
   "id": "699c2eaf",
   "metadata": {},
   "outputs": [
    {
     "data": {
      "text/html": [
       "<div>\n",
       "<style scoped>\n",
       "    .dataframe tbody tr th:only-of-type {\n",
       "        vertical-align: middle;\n",
       "    }\n",
       "\n",
       "    .dataframe tbody tr th {\n",
       "        vertical-align: top;\n",
       "    }\n",
       "\n",
       "    .dataframe thead th {\n",
       "        text-align: right;\n",
       "    }\n",
       "</style>\n",
       "<table border=\"1\" class=\"dataframe\">\n",
       "  <thead>\n",
       "    <tr style=\"text-align: right;\">\n",
       "      <th></th>\n",
       "      <th>Name</th>\n",
       "      <th>Surname</th>\n",
       "      <th>Age</th>\n",
       "      <th>Smokes</th>\n",
       "      <th>AreaQ</th>\n",
       "      <th>Alkhol</th>\n",
       "      <th>Result</th>\n",
       "    </tr>\n",
       "  </thead>\n",
       "  <tbody>\n",
       "    <tr>\n",
       "      <th>0</th>\n",
       "      <td>John</td>\n",
       "      <td>Wick</td>\n",
       "      <td>35</td>\n",
       "      <td>3</td>\n",
       "      <td>5</td>\n",
       "      <td>4</td>\n",
       "      <td>1</td>\n",
       "    </tr>\n",
       "    <tr>\n",
       "      <th>1</th>\n",
       "      <td>John</td>\n",
       "      <td>Constantine</td>\n",
       "      <td>27</td>\n",
       "      <td>20</td>\n",
       "      <td>2</td>\n",
       "      <td>5</td>\n",
       "      <td>1</td>\n",
       "    </tr>\n",
       "    <tr>\n",
       "      <th>2</th>\n",
       "      <td>Camela</td>\n",
       "      <td>Anderson</td>\n",
       "      <td>30</td>\n",
       "      <td>0</td>\n",
       "      <td>5</td>\n",
       "      <td>2</td>\n",
       "      <td>0</td>\n",
       "    </tr>\n",
       "    <tr>\n",
       "      <th>3</th>\n",
       "      <td>Alex</td>\n",
       "      <td>Telles</td>\n",
       "      <td>28</td>\n",
       "      <td>0</td>\n",
       "      <td>8</td>\n",
       "      <td>1</td>\n",
       "      <td>0</td>\n",
       "    </tr>\n",
       "    <tr>\n",
       "      <th>4</th>\n",
       "      <td>Diego</td>\n",
       "      <td>Maradona</td>\n",
       "      <td>68</td>\n",
       "      <td>4</td>\n",
       "      <td>5</td>\n",
       "      <td>6</td>\n",
       "      <td>1</td>\n",
       "    </tr>\n",
       "  </tbody>\n",
       "</table>\n",
       "</div>"
      ],
      "text/plain": [
       "     Name      Surname  Age  Smokes  AreaQ  Alkhol  Result\n",
       "0    John         Wick   35       3      5       4       1\n",
       "1    John  Constantine   27      20      2       5       1\n",
       "2  Camela     Anderson   30       0      5       2       0\n",
       "3    Alex       Telles   28       0      8       1       0\n",
       "4   Diego     Maradona   68       4      5       6       1"
      ]
     },
     "execution_count": 212,
     "metadata": {},
     "output_type": "execute_result"
    }
   ],
   "source": [
    "# Đọc data\n",
    "url = 'lung_cancer_examples.csv'\n",
    "data = pd.read_csv(url)\n",
    "data.head()"
   ]
  },
  {
   "cell_type": "code",
   "execution_count": 213,
   "id": "efdb3e16",
   "metadata": {},
   "outputs": [],
   "source": [
    "data = data.drop(['Name','Surname'],axis = 1)"
   ]
  },
  {
   "cell_type": "code",
   "execution_count": 214,
   "id": "63694a9d",
   "metadata": {},
   "outputs": [
    {
     "data": {
      "text/html": [
       "<div>\n",
       "<style scoped>\n",
       "    .dataframe tbody tr th:only-of-type {\n",
       "        vertical-align: middle;\n",
       "    }\n",
       "\n",
       "    .dataframe tbody tr th {\n",
       "        vertical-align: top;\n",
       "    }\n",
       "\n",
       "    .dataframe thead th {\n",
       "        text-align: right;\n",
       "    }\n",
       "</style>\n",
       "<table border=\"1\" class=\"dataframe\">\n",
       "  <thead>\n",
       "    <tr style=\"text-align: right;\">\n",
       "      <th></th>\n",
       "      <th>Age</th>\n",
       "      <th>Smokes</th>\n",
       "      <th>AreaQ</th>\n",
       "      <th>Alkhol</th>\n",
       "      <th>Result</th>\n",
       "    </tr>\n",
       "  </thead>\n",
       "  <tbody>\n",
       "    <tr>\n",
       "      <th>0</th>\n",
       "      <td>35</td>\n",
       "      <td>3</td>\n",
       "      <td>5</td>\n",
       "      <td>4</td>\n",
       "      <td>1</td>\n",
       "    </tr>\n",
       "    <tr>\n",
       "      <th>1</th>\n",
       "      <td>27</td>\n",
       "      <td>20</td>\n",
       "      <td>2</td>\n",
       "      <td>5</td>\n",
       "      <td>1</td>\n",
       "    </tr>\n",
       "    <tr>\n",
       "      <th>2</th>\n",
       "      <td>30</td>\n",
       "      <td>0</td>\n",
       "      <td>5</td>\n",
       "      <td>2</td>\n",
       "      <td>0</td>\n",
       "    </tr>\n",
       "    <tr>\n",
       "      <th>3</th>\n",
       "      <td>28</td>\n",
       "      <td>0</td>\n",
       "      <td>8</td>\n",
       "      <td>1</td>\n",
       "      <td>0</td>\n",
       "    </tr>\n",
       "    <tr>\n",
       "      <th>4</th>\n",
       "      <td>68</td>\n",
       "      <td>4</td>\n",
       "      <td>5</td>\n",
       "      <td>6</td>\n",
       "      <td>1</td>\n",
       "    </tr>\n",
       "  </tbody>\n",
       "</table>\n",
       "</div>"
      ],
      "text/plain": [
       "   Age  Smokes  AreaQ  Alkhol  Result\n",
       "0   35       3      5       4       1\n",
       "1   27      20      2       5       1\n",
       "2   30       0      5       2       0\n",
       "3   28       0      8       1       0\n",
       "4   68       4      5       6       1"
      ]
     },
     "execution_count": 214,
     "metadata": {},
     "output_type": "execute_result"
    }
   ],
   "source": [
    "data.head()"
   ]
  },
  {
   "cell_type": "code",
   "execution_count": 215,
   "id": "f1187f0c",
   "metadata": {},
   "outputs": [
    {
     "name": "stdout",
     "output_type": "stream",
     "text": [
      "<class 'pandas.core.frame.DataFrame'>\n",
      "RangeIndex: 59 entries, 0 to 58\n",
      "Data columns (total 5 columns):\n",
      " #   Column  Non-Null Count  Dtype\n",
      "---  ------  --------------  -----\n",
      " 0   Age     59 non-null     int64\n",
      " 1   Smokes  59 non-null     int64\n",
      " 2   AreaQ   59 non-null     int64\n",
      " 3   Alkhol  59 non-null     int64\n",
      " 4   Result  59 non-null     int64\n",
      "dtypes: int64(5)\n",
      "memory usage: 2.4 KB\n"
     ]
    }
   ],
   "source": [
    "data.info()"
   ]
  },
  {
   "cell_type": "code",
   "execution_count": 266,
   "id": "5e84158f",
   "metadata": {},
   "outputs": [],
   "source": [
    "X = data.drop(['Result'], axis = 1)\n",
    "y = data['Result']\n",
    "\n",
    "\n",
    "X_train, X_test, y_train, y_test = train_test_split(X,y,test_size = 0.2)\n",
    "\n",
    "SC = StandardScaler()\n",
    "SC.fit(X_train)\n",
    "X_train_std = SC.transform(X_train)\n",
    "X_test_std = SC.transform(X_test)"
   ]
  },
  {
   "cell_type": "code",
   "execution_count": 267,
   "id": "16fdcda3",
   "metadata": {},
   "outputs": [
    {
     "name": "stdout",
     "output_type": "stream",
     "text": [
      "Độ chính xác mô hình scale:  0.9166666666666666\n"
     ]
    }
   ],
   "source": [
    "model = Perceptron(max_iter = 10000, eta0 = 0.03, random_state = 4)\n",
    "model.fit(X_train_std,y_train)\n",
    "y_pred = model.predict(X_test_std)\n",
    "\n",
    "\n",
    "print('Độ chính xác mô hình scale: ', accuracy_score(y_test,y_pred))"
   ]
  },
  {
   "cell_type": "markdown",
   "id": "dd34fe4b",
   "metadata": {},
   "source": [
    "# Diabetes"
   ]
  },
  {
   "cell_type": "code",
   "execution_count": 285,
   "id": "2075cc3e",
   "metadata": {},
   "outputs": [
    {
     "data": {
      "text/html": [
       "<div>\n",
       "<style scoped>\n",
       "    .dataframe tbody tr th:only-of-type {\n",
       "        vertical-align: middle;\n",
       "    }\n",
       "\n",
       "    .dataframe tbody tr th {\n",
       "        vertical-align: top;\n",
       "    }\n",
       "\n",
       "    .dataframe thead th {\n",
       "        text-align: right;\n",
       "    }\n",
       "</style>\n",
       "<table border=\"1\" class=\"dataframe\">\n",
       "  <thead>\n",
       "    <tr style=\"text-align: right;\">\n",
       "      <th></th>\n",
       "      <th>6</th>\n",
       "      <th>148</th>\n",
       "      <th>72</th>\n",
       "      <th>35</th>\n",
       "      <th>0</th>\n",
       "      <th>33.6</th>\n",
       "      <th>0.627</th>\n",
       "      <th>50</th>\n",
       "      <th>1</th>\n",
       "    </tr>\n",
       "  </thead>\n",
       "  <tbody>\n",
       "    <tr>\n",
       "      <th>0</th>\n",
       "      <td>1</td>\n",
       "      <td>85</td>\n",
       "      <td>66</td>\n",
       "      <td>29</td>\n",
       "      <td>0</td>\n",
       "      <td>26.6</td>\n",
       "      <td>0.351</td>\n",
       "      <td>31</td>\n",
       "      <td>0</td>\n",
       "    </tr>\n",
       "    <tr>\n",
       "      <th>1</th>\n",
       "      <td>8</td>\n",
       "      <td>183</td>\n",
       "      <td>64</td>\n",
       "      <td>0</td>\n",
       "      <td>0</td>\n",
       "      <td>23.3</td>\n",
       "      <td>0.672</td>\n",
       "      <td>32</td>\n",
       "      <td>1</td>\n",
       "    </tr>\n",
       "    <tr>\n",
       "      <th>2</th>\n",
       "      <td>1</td>\n",
       "      <td>89</td>\n",
       "      <td>66</td>\n",
       "      <td>23</td>\n",
       "      <td>94</td>\n",
       "      <td>28.1</td>\n",
       "      <td>0.167</td>\n",
       "      <td>21</td>\n",
       "      <td>0</td>\n",
       "    </tr>\n",
       "    <tr>\n",
       "      <th>3</th>\n",
       "      <td>0</td>\n",
       "      <td>137</td>\n",
       "      <td>40</td>\n",
       "      <td>35</td>\n",
       "      <td>168</td>\n",
       "      <td>43.1</td>\n",
       "      <td>2.288</td>\n",
       "      <td>33</td>\n",
       "      <td>1</td>\n",
       "    </tr>\n",
       "    <tr>\n",
       "      <th>4</th>\n",
       "      <td>5</td>\n",
       "      <td>116</td>\n",
       "      <td>74</td>\n",
       "      <td>0</td>\n",
       "      <td>0</td>\n",
       "      <td>25.6</td>\n",
       "      <td>0.201</td>\n",
       "      <td>30</td>\n",
       "      <td>0</td>\n",
       "    </tr>\n",
       "  </tbody>\n",
       "</table>\n",
       "</div>"
      ],
      "text/plain": [
       "   6  148  72  35    0  33.6  0.627  50  1\n",
       "0  1   85  66  29    0  26.6  0.351  31  0\n",
       "1  8  183  64   0    0  23.3  0.672  32  1\n",
       "2  1   89  66  23   94  28.1  0.167  21  0\n",
       "3  0  137  40  35  168  43.1  2.288  33  1\n",
       "4  5  116  74   0    0  25.6  0.201  30  0"
      ]
     },
     "execution_count": 285,
     "metadata": {},
     "output_type": "execute_result"
    }
   ],
   "source": [
    "# Đọc data\n",
    "url = 'pima-indians-diabetes.csv'\n",
    "data = pd.read_csv(url)\n",
    "data.head()"
   ]
  },
  {
   "cell_type": "code",
   "execution_count": 286,
   "id": "8fd00599",
   "metadata": {},
   "outputs": [
    {
     "name": "stdout",
     "output_type": "stream",
     "text": [
      "<class 'pandas.core.frame.DataFrame'>\n",
      "RangeIndex: 767 entries, 0 to 766\n",
      "Data columns (total 9 columns):\n",
      " #   Column  Non-Null Count  Dtype  \n",
      "---  ------  --------------  -----  \n",
      " 0   6       767 non-null    int64  \n",
      " 1   148     767 non-null    int64  \n",
      " 2   72      767 non-null    int64  \n",
      " 3   35      767 non-null    int64  \n",
      " 4   0       767 non-null    int64  \n",
      " 5   33.6    767 non-null    float64\n",
      " 6   0.627   767 non-null    float64\n",
      " 7   50      767 non-null    int64  \n",
      " 8   1       767 non-null    int64  \n",
      "dtypes: float64(2), int64(7)\n",
      "memory usage: 54.1 KB\n"
     ]
    }
   ],
   "source": [
    "data.info()"
   ]
  },
  {
   "cell_type": "code",
   "execution_count": 306,
   "id": "1ee7622f",
   "metadata": {},
   "outputs": [],
   "source": [
    "X = data.iloc[:, 0:-1]\n",
    "y = data.iloc[:, -1]\n",
    "\n",
    "\n",
    "\n",
    "X_train, X_test, y_train, y_test = train_test_split(X,y,test_size = 0.2)\n",
    "\n",
    "SC = StandardScaler()\n",
    "SC.fit(X_train)\n",
    "X_train_std = SC.transform(X_train)\n",
    "X_test_std = SC.transform(X_test)"
   ]
  },
  {
   "cell_type": "code",
   "execution_count": 307,
   "id": "a61b04d4",
   "metadata": {},
   "outputs": [
    {
     "name": "stdout",
     "output_type": "stream",
     "text": [
      "Độ chính xác mô hình scale:  0.7532467532467533\n"
     ]
    }
   ],
   "source": [
    "model = Perceptron(max_iter = 10000, eta0 = 0.008, random_state = 4)\n",
    "model.fit(X_train_std,y_train)\n",
    "y_pred = model.predict(X_test_std)\n",
    "\n",
    "\n",
    "print('Độ chính xác mô hình scale: ', accuracy_score(y_test,y_pred))"
   ]
  },
  {
   "cell_type": "code",
   "execution_count": null,
   "id": "3718368c",
   "metadata": {},
   "outputs": [],
   "source": []
  }
 ],
 "metadata": {
  "kernelspec": {
   "display_name": "Python 3 (ipykernel)",
   "language": "python",
   "name": "python3"
  },
  "language_info": {
   "codemirror_mode": {
    "name": "ipython",
    "version": 3
   },
   "file_extension": ".py",
   "mimetype": "text/x-python",
   "name": "python",
   "nbconvert_exporter": "python",
   "pygments_lexer": "ipython3",
   "version": "3.9.13"
  }
 },
 "nbformat": 4,
 "nbformat_minor": 5
}
